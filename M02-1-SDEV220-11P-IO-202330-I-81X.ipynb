{
 "cells": [
  {
   "cell_type": "markdown",
   "id": "38b45a1a",
   "metadata": {},
   "source": [
    "4.1"
   ]
  },
  {
   "cell_type": "code",
   "execution_count": null,
   "id": "4dcc59df",
   "metadata": {},
   "outputs": [],
   "source": [
    "secret = 9\n",
    "guess = 3\n",
    "if guess < secret:\n",
    "    print('too low')\n",
    "elif guess > secret:\n",
    "    print('too high')\n",
    "else:\n",
    "    print('just right')"
   ]
  },
  {
   "cell_type": "markdown",
   "id": "6612080e",
   "metadata": {},
   "source": [
    "according to the instructions this is correct"
   ]
  },
  {
   "cell_type": "code",
   "execution_count": null,
   "id": "c20bdccc",
   "metadata": {},
   "outputs": [],
   "source": [
    "import random\n",
    "def thinkingOfaNumber():\n",
    "    i = 1\n",
    "    secret =random.randint(1,10)\n",
    "    guess = input(int)\n",
    "    while int(guess) != secret:\n",
    "        if int(guess) > secret:\n",
    "            print ('too high')\n",
    "            guess = input(int)\n",
    "            i = i + 1\n",
    "        elif int(guess) < secret:\n",
    "            print ('too low')\n",
    "            guess = input(int)\n",
    "            i = i + 1\n",
    "    if int(guess) == secret:\n",
    "        print ('just rght')\n",
    "thinkingOfaNumber()"
   ]
  },
  {
   "cell_type": "markdown",
   "id": "c314ac3e",
   "metadata": {},
   "source": [
    "The program above is a reformat of a previous program I have done.\n",
    "The while loop has been added instead of an else condition as it makes more sense to keep asking for guesses until the original number selected matches the number guessed rather than the program choosing a new number every time."
   ]
  },
  {
   "cell_type": "markdown",
   "id": "5435e7cf",
   "metadata": {},
   "source": [
    "4.2"
   ]
  },
  {
   "cell_type": "code",
   "execution_count": null,
   "id": "4acaec53",
   "metadata": {},
   "outputs": [],
   "source": [
    "small=True\n",
    "green=True\n",
    "if small:\n",
    "    if green:\n",
    "        print(\"It's a pea.\")\n",
    "    else:\n",
    "        print:(\"It's a cherry.\")\n",
    "else:\n",
    "    if green:\n",
    "        print(\"It's a watermelon.\")\n",
    "    else:\n",
    "        print(\"It's a pumpkin.\")"
   ]
  },
  {
   "cell_type": "markdown",
   "id": "aa3ab4db",
   "metadata": {},
   "source": [
    "according to the instructions this is the result"
   ]
  },
  {
   "cell_type": "code",
   "execution_count": null,
   "id": "6f203c49",
   "metadata": {},
   "outputs": [],
   "source": [
    "print('Is the produce large or small?')\n",
    "answer_one = input()\n",
    "print('Is the produce green or not?')\n",
    "answer_two = input()\n",
    "\n",
    "if answer_one.lower() == 'small':\n",
    "    if answer_two.lower() == 'green':\n",
    "        print(\"It's a pea.\")\n",
    "    else:\n",
    "        print(\"It's a cherry.\")\n",
    "else:\n",
    "    if answer_two.lower() == 'green':\n",
    "        print(\"It's a watermelon.\")\n",
    "    else:\n",
    "        print(\"It's a pumpkin.\")"
   ]
  },
  {
   "cell_type": "markdown",
   "id": "8b999ab3",
   "metadata": {},
   "source": [
    "The program above tests the variables answer_one and answer_two against the conditions small and green to determine a produce out of four possible choices"
   ]
  },
  {
   "cell_type": "markdown",
   "id": "e5d7ec88",
   "metadata": {},
   "source": [
    "6.1"
   ]
  },
  {
   "cell_type": "code",
   "execution_count": null,
   "id": "ffbcfc07",
   "metadata": {},
   "outputs": [],
   "source": [
    "my_list=[3,2,1,0]\n",
    "for i in my_list:\n",
    "    print(i)"
   ]
  },
  {
   "cell_type": "markdown",
   "id": "dc56511c",
   "metadata": {},
   "source": [
    "The program above prints each individual value in my_list in succession beginning with the first value and stopping once the last value prints"
   ]
  },
  {
   "cell_type": "markdown",
   "id": "5227204f",
   "metadata": {},
   "source": [
    "6.2"
   ]
  },
  {
   "cell_type": "code",
   "execution_count": null,
   "id": "290e073f",
   "metadata": {},
   "outputs": [],
   "source": [
    "guess_me = 7\n",
    "number = 1\n",
    "while number != guess_me:\n",
    "    if number < guess_me:\n",
    "        print(number)\n",
    "        print('too low')\n",
    "    else:\n",
    "        print('oops')\n",
    "    number = number + 1\n",
    "if number == guess_me:\n",
    "    print(number)\n",
    "    print('found it!')"
   ]
  },
  {
   "cell_type": "markdown",
   "id": "e1c9829e",
   "metadata": {},
   "source": [
    "the above program will cycle through a series of numbers starting with one until it reaches seven in which case it will print the statement indicating as much and halt the program"
   ]
  },
  {
   "cell_type": "markdown",
   "id": "5aa71ed7",
   "metadata": {},
   "source": [
    "6.3"
   ]
  },
  {
   "cell_type": "code",
   "execution_count": null,
   "id": "8511b50e",
   "metadata": {},
   "outputs": [],
   "source": [
    "guess_me = 5\n",
    "for number in range(10):\n",
    "    while number != guess_me:\n",
    "        print(number)\n",
    "        print('too low')\n",
    "        number = number + 1\n",
    "    if number == guess_me:\n",
    "        print(number)\n",
    "        print('found it!')\n",
    "        break\n",
    "    else:\n",
    "        print(number)\n",
    "        print('oops')\n",
    "        break"
   ]
  },
  {
   "cell_type": "markdown",
   "id": "9d4caecd",
   "metadata": {},
   "source": [
    "this program begins in the first value of the range and increments by one until it reaches five then it prints a statement indicating as much and ends the program"
   ]
  }
 ],
 "metadata": {
  "kernelspec": {
   "display_name": "Python 3 (ipykernel)",
   "language": "python",
   "name": "python3"
  },
  "language_info": {
   "codemirror_mode": {
    "name": "ipython",
    "version": 3
   },
   "file_extension": ".py",
   "mimetype": "text/x-python",
   "name": "python",
   "nbconvert_exporter": "python",
   "pygments_lexer": "ipython3",
   "version": "3.11.5"
  }
 },
 "nbformat": 4,
 "nbformat_minor": 5
}
